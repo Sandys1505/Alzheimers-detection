{
  "nbformat": 4,
  "nbformat_minor": 0,
  "metadata": {
    "colab": {
      "provenance": []
    },
    "kernelspec": {
      "name": "python3",
      "display_name": "Python 3"
    },
    "language_info": {
      "name": "python"
    }
  },
  "cells": [
    {
      "cell_type": "code",
      "source": [
        "import pandas as pd\n",
        "import numpy as np\n",
        "import matplotlib.pyplot as plt\n",
        "from sklearn.model_selection import train_test_split\n",
        "from sklearn.metrics import recall_score, precision_score, f1_score, accuracy_score\n",
        "from sklearn.decomposition import PCA\n",
        "from sklearn.preprocessing import StandardScaler\n",
        "import seaborn as sns\n",
        "import os"
      ],
      "metadata": {
        "id": "TpvcIqi79fIu"
      },
      "execution_count": null,
      "outputs": []
    },
    {
      "cell_type": "code",
      "source": [
        "df = pd.read_csv(\"/content/drive/MyDrive/data.csv\")"
      ],
      "metadata": {
        "id": "A7jwJoVd9fvU"
      },
      "execution_count": null,
      "outputs": []
    },
    {
      "cell_type": "code",
      "source": [
        "df.head()"
      ],
      "metadata": {
        "colab": {
          "base_uri": "https://localhost:8080/",
          "height": 255
        },
        "id": "e7KNMXew9y3G",
        "outputId": "eea212d5-a100-4ade-e996-491cfc8e1726"
      },
      "execution_count": null,
      "outputs": [
        {
          "output_type": "execute_result",
          "data": {
            "text/plain": [
              "     ID  air_time1  disp_index1  gmrt_in_air1  gmrt_on_paper1  \\\n",
              "0  id_1       5160     0.000013    120.804174       86.853334   \n",
              "1  id_2      51980     0.000016    115.318238       83.448681   \n",
              "2  id_3       2600     0.000010    229.933997      172.761858   \n",
              "3  id_4       2130     0.000010    369.403342      183.193104   \n",
              "4  id_5       2310     0.000007    257.997131      111.275889   \n",
              "\n",
              "   max_x_extension1  max_y_extension1  mean_acc_in_air1  mean_acc_on_paper1  \\\n",
              "0               957              6601          0.361800            0.217459   \n",
              "1              1694              6998          0.272513            0.144880   \n",
              "2              2333              5802          0.387020            0.181342   \n",
              "3              1756              8159          0.556879            0.164502   \n",
              "4               987              4732          0.266077            0.145104   \n",
              "\n",
              "   mean_gmrt1  ...  mean_jerk_in_air25  mean_jerk_on_paper25  \\\n",
              "0  103.828754  ...            0.141434              0.024471   \n",
              "1   99.383459  ...            0.049663              0.018368   \n",
              "2  201.347928  ...            0.178194              0.017174   \n",
              "3  276.298223  ...            0.113905              0.019860   \n",
              "4  184.636510  ...            0.121782              0.020872   \n",
              "\n",
              "   mean_speed_in_air25  mean_speed_on_paper25  num_of_pendown25  paper_time25  \\\n",
              "0             5.596487               3.184589                71         40120   \n",
              "1             1.665973               0.950249               129        126700   \n",
              "2             4.000781               2.392521                74         45480   \n",
              "3             4.206746               1.613522               123         67945   \n",
              "4             3.319036               1.680629                92         37285   \n",
              "\n",
              "   pressure_mean25  pressure_var25  total_time25  class  \n",
              "0      1749.278166     296102.7676        144605      P  \n",
              "1      1504.768272     278744.2850        298640      P  \n",
              "2      1431.443492     144411.7055         79025      P  \n",
              "3      1465.843329     230184.7154        181220      P  \n",
              "4      1841.702561     158290.0255         72575      P  \n",
              "\n",
              "[5 rows x 452 columns]"
            ],
            "text/html": [
              "\n",
              "  <div id=\"df-f90b3db5-2e51-4e84-9a7c-d5e9cdcd55bc\" class=\"colab-df-container\">\n",
              "    <div>\n",
              "<style scoped>\n",
              "    .dataframe tbody tr th:only-of-type {\n",
              "        vertical-align: middle;\n",
              "    }\n",
              "\n",
              "    .dataframe tbody tr th {\n",
              "        vertical-align: top;\n",
              "    }\n",
              "\n",
              "    .dataframe thead th {\n",
              "        text-align: right;\n",
              "    }\n",
              "</style>\n",
              "<table border=\"1\" class=\"dataframe\">\n",
              "  <thead>\n",
              "    <tr style=\"text-align: right;\">\n",
              "      <th></th>\n",
              "      <th>ID</th>\n",
              "      <th>air_time1</th>\n",
              "      <th>disp_index1</th>\n",
              "      <th>gmrt_in_air1</th>\n",
              "      <th>gmrt_on_paper1</th>\n",
              "      <th>max_x_extension1</th>\n",
              "      <th>max_y_extension1</th>\n",
              "      <th>mean_acc_in_air1</th>\n",
              "      <th>mean_acc_on_paper1</th>\n",
              "      <th>mean_gmrt1</th>\n",
              "      <th>...</th>\n",
              "      <th>mean_jerk_in_air25</th>\n",
              "      <th>mean_jerk_on_paper25</th>\n",
              "      <th>mean_speed_in_air25</th>\n",
              "      <th>mean_speed_on_paper25</th>\n",
              "      <th>num_of_pendown25</th>\n",
              "      <th>paper_time25</th>\n",
              "      <th>pressure_mean25</th>\n",
              "      <th>pressure_var25</th>\n",
              "      <th>total_time25</th>\n",
              "      <th>class</th>\n",
              "    </tr>\n",
              "  </thead>\n",
              "  <tbody>\n",
              "    <tr>\n",
              "      <th>0</th>\n",
              "      <td>id_1</td>\n",
              "      <td>5160</td>\n",
              "      <td>0.000013</td>\n",
              "      <td>120.804174</td>\n",
              "      <td>86.853334</td>\n",
              "      <td>957</td>\n",
              "      <td>6601</td>\n",
              "      <td>0.361800</td>\n",
              "      <td>0.217459</td>\n",
              "      <td>103.828754</td>\n",
              "      <td>...</td>\n",
              "      <td>0.141434</td>\n",
              "      <td>0.024471</td>\n",
              "      <td>5.596487</td>\n",
              "      <td>3.184589</td>\n",
              "      <td>71</td>\n",
              "      <td>40120</td>\n",
              "      <td>1749.278166</td>\n",
              "      <td>296102.7676</td>\n",
              "      <td>144605</td>\n",
              "      <td>P</td>\n",
              "    </tr>\n",
              "    <tr>\n",
              "      <th>1</th>\n",
              "      <td>id_2</td>\n",
              "      <td>51980</td>\n",
              "      <td>0.000016</td>\n",
              "      <td>115.318238</td>\n",
              "      <td>83.448681</td>\n",
              "      <td>1694</td>\n",
              "      <td>6998</td>\n",
              "      <td>0.272513</td>\n",
              "      <td>0.144880</td>\n",
              "      <td>99.383459</td>\n",
              "      <td>...</td>\n",
              "      <td>0.049663</td>\n",
              "      <td>0.018368</td>\n",
              "      <td>1.665973</td>\n",
              "      <td>0.950249</td>\n",
              "      <td>129</td>\n",
              "      <td>126700</td>\n",
              "      <td>1504.768272</td>\n",
              "      <td>278744.2850</td>\n",
              "      <td>298640</td>\n",
              "      <td>P</td>\n",
              "    </tr>\n",
              "    <tr>\n",
              "      <th>2</th>\n",
              "      <td>id_3</td>\n",
              "      <td>2600</td>\n",
              "      <td>0.000010</td>\n",
              "      <td>229.933997</td>\n",
              "      <td>172.761858</td>\n",
              "      <td>2333</td>\n",
              "      <td>5802</td>\n",
              "      <td>0.387020</td>\n",
              "      <td>0.181342</td>\n",
              "      <td>201.347928</td>\n",
              "      <td>...</td>\n",
              "      <td>0.178194</td>\n",
              "      <td>0.017174</td>\n",
              "      <td>4.000781</td>\n",
              "      <td>2.392521</td>\n",
              "      <td>74</td>\n",
              "      <td>45480</td>\n",
              "      <td>1431.443492</td>\n",
              "      <td>144411.7055</td>\n",
              "      <td>79025</td>\n",
              "      <td>P</td>\n",
              "    </tr>\n",
              "    <tr>\n",
              "      <th>3</th>\n",
              "      <td>id_4</td>\n",
              "      <td>2130</td>\n",
              "      <td>0.000010</td>\n",
              "      <td>369.403342</td>\n",
              "      <td>183.193104</td>\n",
              "      <td>1756</td>\n",
              "      <td>8159</td>\n",
              "      <td>0.556879</td>\n",
              "      <td>0.164502</td>\n",
              "      <td>276.298223</td>\n",
              "      <td>...</td>\n",
              "      <td>0.113905</td>\n",
              "      <td>0.019860</td>\n",
              "      <td>4.206746</td>\n",
              "      <td>1.613522</td>\n",
              "      <td>123</td>\n",
              "      <td>67945</td>\n",
              "      <td>1465.843329</td>\n",
              "      <td>230184.7154</td>\n",
              "      <td>181220</td>\n",
              "      <td>P</td>\n",
              "    </tr>\n",
              "    <tr>\n",
              "      <th>4</th>\n",
              "      <td>id_5</td>\n",
              "      <td>2310</td>\n",
              "      <td>0.000007</td>\n",
              "      <td>257.997131</td>\n",
              "      <td>111.275889</td>\n",
              "      <td>987</td>\n",
              "      <td>4732</td>\n",
              "      <td>0.266077</td>\n",
              "      <td>0.145104</td>\n",
              "      <td>184.636510</td>\n",
              "      <td>...</td>\n",
              "      <td>0.121782</td>\n",
              "      <td>0.020872</td>\n",
              "      <td>3.319036</td>\n",
              "      <td>1.680629</td>\n",
              "      <td>92</td>\n",
              "      <td>37285</td>\n",
              "      <td>1841.702561</td>\n",
              "      <td>158290.0255</td>\n",
              "      <td>72575</td>\n",
              "      <td>P</td>\n",
              "    </tr>\n",
              "  </tbody>\n",
              "</table>\n",
              "<p>5 rows × 452 columns</p>\n",
              "</div>\n",
              "    <div class=\"colab-df-buttons\">\n",
              "\n",
              "  <div class=\"colab-df-container\">\n",
              "    <button class=\"colab-df-convert\" onclick=\"convertToInteractive('df-f90b3db5-2e51-4e84-9a7c-d5e9cdcd55bc')\"\n",
              "            title=\"Convert this dataframe to an interactive table.\"\n",
              "            style=\"display:none;\">\n",
              "\n",
              "  <svg xmlns=\"http://www.w3.org/2000/svg\" height=\"24px\" viewBox=\"0 -960 960 960\">\n",
              "    <path d=\"M120-120v-720h720v720H120Zm60-500h600v-160H180v160Zm220 220h160v-160H400v160Zm0 220h160v-160H400v160ZM180-400h160v-160H180v160Zm440 0h160v-160H620v160ZM180-180h160v-160H180v160Zm440 0h160v-160H620v160Z\"/>\n",
              "  </svg>\n",
              "    </button>\n",
              "\n",
              "  <style>\n",
              "    .colab-df-container {\n",
              "      display:flex;\n",
              "      gap: 12px;\n",
              "    }\n",
              "\n",
              "    .colab-df-convert {\n",
              "      background-color: #E8F0FE;\n",
              "      border: none;\n",
              "      border-radius: 50%;\n",
              "      cursor: pointer;\n",
              "      display: none;\n",
              "      fill: #1967D2;\n",
              "      height: 32px;\n",
              "      padding: 0 0 0 0;\n",
              "      width: 32px;\n",
              "    }\n",
              "\n",
              "    .colab-df-convert:hover {\n",
              "      background-color: #E2EBFA;\n",
              "      box-shadow: 0px 1px 2px rgba(60, 64, 67, 0.3), 0px 1px 3px 1px rgba(60, 64, 67, 0.15);\n",
              "      fill: #174EA6;\n",
              "    }\n",
              "\n",
              "    .colab-df-buttons div {\n",
              "      margin-bottom: 4px;\n",
              "    }\n",
              "\n",
              "    [theme=dark] .colab-df-convert {\n",
              "      background-color: #3B4455;\n",
              "      fill: #D2E3FC;\n",
              "    }\n",
              "\n",
              "    [theme=dark] .colab-df-convert:hover {\n",
              "      background-color: #434B5C;\n",
              "      box-shadow: 0px 1px 3px 1px rgba(0, 0, 0, 0.15);\n",
              "      filter: drop-shadow(0px 1px 2px rgba(0, 0, 0, 0.3));\n",
              "      fill: #FFFFFF;\n",
              "    }\n",
              "  </style>\n",
              "\n",
              "    <script>\n",
              "      const buttonEl =\n",
              "        document.querySelector('#df-f90b3db5-2e51-4e84-9a7c-d5e9cdcd55bc button.colab-df-convert');\n",
              "      buttonEl.style.display =\n",
              "        google.colab.kernel.accessAllowed ? 'block' : 'none';\n",
              "\n",
              "      async function convertToInteractive(key) {\n",
              "        const element = document.querySelector('#df-f90b3db5-2e51-4e84-9a7c-d5e9cdcd55bc');\n",
              "        const dataTable =\n",
              "          await google.colab.kernel.invokeFunction('convertToInteractive',\n",
              "                                                    [key], {});\n",
              "        if (!dataTable) return;\n",
              "\n",
              "        const docLinkHtml = 'Like what you see? Visit the ' +\n",
              "          '<a target=\"_blank\" href=https://colab.research.google.com/notebooks/data_table.ipynb>data table notebook</a>'\n",
              "          + ' to learn more about interactive tables.';\n",
              "        element.innerHTML = '';\n",
              "        dataTable['output_type'] = 'display_data';\n",
              "        await google.colab.output.renderOutput(dataTable, element);\n",
              "        const docLink = document.createElement('div');\n",
              "        docLink.innerHTML = docLinkHtml;\n",
              "        element.appendChild(docLink);\n",
              "      }\n",
              "    </script>\n",
              "  </div>\n",
              "\n",
              "\n",
              "<div id=\"df-24b20907-cc4a-45e1-ab10-f1c5d87473d0\">\n",
              "  <button class=\"colab-df-quickchart\" onclick=\"quickchart('df-24b20907-cc4a-45e1-ab10-f1c5d87473d0')\"\n",
              "            title=\"Suggest charts\"\n",
              "            style=\"display:none;\">\n",
              "\n",
              "<svg xmlns=\"http://www.w3.org/2000/svg\" height=\"24px\"viewBox=\"0 0 24 24\"\n",
              "     width=\"24px\">\n",
              "    <g>\n",
              "        <path d=\"M19 3H5c-1.1 0-2 .9-2 2v14c0 1.1.9 2 2 2h14c1.1 0 2-.9 2-2V5c0-1.1-.9-2-2-2zM9 17H7v-7h2v7zm4 0h-2V7h2v10zm4 0h-2v-4h2v4z\"/>\n",
              "    </g>\n",
              "</svg>\n",
              "  </button>\n",
              "\n",
              "<style>\n",
              "  .colab-df-quickchart {\n",
              "      --bg-color: #E8F0FE;\n",
              "      --fill-color: #1967D2;\n",
              "      --hover-bg-color: #E2EBFA;\n",
              "      --hover-fill-color: #174EA6;\n",
              "      --disabled-fill-color: #AAA;\n",
              "      --disabled-bg-color: #DDD;\n",
              "  }\n",
              "\n",
              "  [theme=dark] .colab-df-quickchart {\n",
              "      --bg-color: #3B4455;\n",
              "      --fill-color: #D2E3FC;\n",
              "      --hover-bg-color: #434B5C;\n",
              "      --hover-fill-color: #FFFFFF;\n",
              "      --disabled-bg-color: #3B4455;\n",
              "      --disabled-fill-color: #666;\n",
              "  }\n",
              "\n",
              "  .colab-df-quickchart {\n",
              "    background-color: var(--bg-color);\n",
              "    border: none;\n",
              "    border-radius: 50%;\n",
              "    cursor: pointer;\n",
              "    display: none;\n",
              "    fill: var(--fill-color);\n",
              "    height: 32px;\n",
              "    padding: 0;\n",
              "    width: 32px;\n",
              "  }\n",
              "\n",
              "  .colab-df-quickchart:hover {\n",
              "    background-color: var(--hover-bg-color);\n",
              "    box-shadow: 0 1px 2px rgba(60, 64, 67, 0.3), 0 1px 3px 1px rgba(60, 64, 67, 0.15);\n",
              "    fill: var(--button-hover-fill-color);\n",
              "  }\n",
              "\n",
              "  .colab-df-quickchart-complete:disabled,\n",
              "  .colab-df-quickchart-complete:disabled:hover {\n",
              "    background-color: var(--disabled-bg-color);\n",
              "    fill: var(--disabled-fill-color);\n",
              "    box-shadow: none;\n",
              "  }\n",
              "\n",
              "  .colab-df-spinner {\n",
              "    border: 2px solid var(--fill-color);\n",
              "    border-color: transparent;\n",
              "    border-bottom-color: var(--fill-color);\n",
              "    animation:\n",
              "      spin 1s steps(1) infinite;\n",
              "  }\n",
              "\n",
              "  @keyframes spin {\n",
              "    0% {\n",
              "      border-color: transparent;\n",
              "      border-bottom-color: var(--fill-color);\n",
              "      border-left-color: var(--fill-color);\n",
              "    }\n",
              "    20% {\n",
              "      border-color: transparent;\n",
              "      border-left-color: var(--fill-color);\n",
              "      border-top-color: var(--fill-color);\n",
              "    }\n",
              "    30% {\n",
              "      border-color: transparent;\n",
              "      border-left-color: var(--fill-color);\n",
              "      border-top-color: var(--fill-color);\n",
              "      border-right-color: var(--fill-color);\n",
              "    }\n",
              "    40% {\n",
              "      border-color: transparent;\n",
              "      border-right-color: var(--fill-color);\n",
              "      border-top-color: var(--fill-color);\n",
              "    }\n",
              "    60% {\n",
              "      border-color: transparent;\n",
              "      border-right-color: var(--fill-color);\n",
              "    }\n",
              "    80% {\n",
              "      border-color: transparent;\n",
              "      border-right-color: var(--fill-color);\n",
              "      border-bottom-color: var(--fill-color);\n",
              "    }\n",
              "    90% {\n",
              "      border-color: transparent;\n",
              "      border-bottom-color: var(--fill-color);\n",
              "    }\n",
              "  }\n",
              "</style>\n",
              "\n",
              "  <script>\n",
              "    async function quickchart(key) {\n",
              "      const quickchartButtonEl =\n",
              "        document.querySelector('#' + key + ' button');\n",
              "      quickchartButtonEl.disabled = true;  // To prevent multiple clicks.\n",
              "      quickchartButtonEl.classList.add('colab-df-spinner');\n",
              "      try {\n",
              "        const charts = await google.colab.kernel.invokeFunction(\n",
              "            'suggestCharts', [key], {});\n",
              "      } catch (error) {\n",
              "        console.error('Error during call to suggestCharts:', error);\n",
              "      }\n",
              "      quickchartButtonEl.classList.remove('colab-df-spinner');\n",
              "      quickchartButtonEl.classList.add('colab-df-quickchart-complete');\n",
              "    }\n",
              "    (() => {\n",
              "      let quickchartButtonEl =\n",
              "        document.querySelector('#df-24b20907-cc4a-45e1-ab10-f1c5d87473d0 button');\n",
              "      quickchartButtonEl.style.display =\n",
              "        google.colab.kernel.accessAllowed ? 'block' : 'none';\n",
              "    })();\n",
              "  </script>\n",
              "</div>\n",
              "    </div>\n",
              "  </div>\n"
            ],
            "application/vnd.google.colaboratory.intrinsic+json": {
              "type": "dataframe",
              "variable_name": "df"
            }
          },
          "metadata": {},
          "execution_count": 4
        }
      ]
    },
    {
      "cell_type": "code",
      "source": [
        "df.shape"
      ],
      "metadata": {
        "colab": {
          "base_uri": "https://localhost:8080/"
        },
        "id": "UrOdVPNn92Ib",
        "outputId": "c77afb05-eacb-4519-fea6-596dc59b3832"
      },
      "execution_count": null,
      "outputs": [
        {
          "output_type": "execute_result",
          "data": {
            "text/plain": [
              "(174, 452)"
            ]
          },
          "metadata": {},
          "execution_count": 5
        }
      ]
    },
    {
      "cell_type": "code",
      "source": [
        "df.info()"
      ],
      "metadata": {
        "colab": {
          "base_uri": "https://localhost:8080/"
        },
        "id": "WLe-1tvN97ME",
        "outputId": "4b0f83c5-0be9-48cb-fa99-c83be8891012"
      },
      "execution_count": null,
      "outputs": [
        {
          "output_type": "stream",
          "name": "stdout",
          "text": [
            "<class 'pandas.core.frame.DataFrame'>\n",
            "RangeIndex: 174 entries, 0 to 173\n",
            "Columns: 452 entries, ID to class\n",
            "dtypes: float64(300), int64(150), object(2)\n",
            "memory usage: 614.6+ KB\n"
          ]
        }
      ]
    },
    {
      "cell_type": "code",
      "source": [
        "def check_nan_in_dataset(value, my_list):\n",
        "    if value in my_list:\n",
        "        return True\n",
        "    else:\n",
        "        return False\n",
        "\n",
        "if check_nan_in_dataset(1, df.isna().sum()):\n",
        "    print(\"Dataset contains NaN value\")\n",
        "else:\n",
        "    print(\"Dataset does not contain NaN value\")"
      ],
      "metadata": {
        "colab": {
          "base_uri": "https://localhost:8080/"
        },
        "id": "Zhz7b2pL99_C",
        "outputId": "0eb7a8e9-2bdb-4c31-a08f-ad8477479ae8"
      },
      "execution_count": null,
      "outputs": [
        {
          "output_type": "stream",
          "name": "stdout",
          "text": [
            "Dataset does not contain NaN value\n"
          ]
        }
      ]
    },
    {
      "cell_type": "code",
      "source": [
        "duplicate_rows = df[df.duplicated()]\n",
        "\n",
        "if not duplicate_rows.empty:\n",
        "    print(\"Duplicate rows found:\")\n",
        "    print(duplicate_rows)\n",
        "else:\n",
        "    print(\"No duplicate rows found.\")"
      ],
      "metadata": {
        "colab": {
          "base_uri": "https://localhost:8080/"
        },
        "id": "XpnZ3UMp-D0A",
        "outputId": "0b00bf91-ccb3-4261-d7e8-3f09731cdd78"
      },
      "execution_count": null,
      "outputs": [
        {
          "output_type": "stream",
          "name": "stdout",
          "text": [
            "No duplicate rows found.\n"
          ]
        }
      ]
    },
    {
      "cell_type": "code",
      "source": [
        "# Find columns with string values\n",
        "string_columns = df.select_dtypes(include='object')\n",
        "\n",
        "if not string_columns.empty:\n",
        "    print(\"Columns with string values:\")\n",
        "    print(string_columns.columns)\n",
        "else:\n",
        "    print(\"No columns with string values found.\")"
      ],
      "metadata": {
        "colab": {
          "base_uri": "https://localhost:8080/"
        },
        "id": "hG8778Ev-H4s",
        "outputId": "c0f352d6-6f51-41a9-f8b5-cb00ac0de9fd"
      },
      "execution_count": null,
      "outputs": [
        {
          "output_type": "stream",
          "name": "stdout",
          "text": [
            "Columns with string values:\n",
            "Index(['ID', 'class'], dtype='object')\n"
          ]
        }
      ]
    },
    {
      "cell_type": "code",
      "source": [
        "# Drop the ID column\n",
        "df.drop([\"ID\"], axis=1, inplace=True)"
      ],
      "metadata": {
        "id": "AqR6-USP-NmQ"
      },
      "execution_count": null,
      "outputs": []
    },
    {
      "cell_type": "code",
      "source": [
        "#Label Encoding\n",
        "from sklearn.preprocessing import LabelEncoder\n",
        "le = LabelEncoder()\n",
        "df[\"class\"] = le.fit_transform(df['class'])"
      ],
      "metadata": {
        "id": "Rygh5yxlIFWT"
      },
      "execution_count": null,
      "outputs": []
    },
    {
      "cell_type": "code",
      "source": [
        "df.head()"
      ],
      "metadata": {
        "colab": {
          "base_uri": "https://localhost:8080/",
          "height": 255
        },
        "id": "65f9barbJI8h",
        "outputId": "f7ccbbb4-bfca-4f2f-8ca4-05f32a1a8ca4"
      },
      "execution_count": null,
      "outputs": [
        {
          "output_type": "execute_result",
          "data": {
            "text/plain": [
              "   air_time1  disp_index1  gmrt_in_air1  gmrt_on_paper1  max_x_extension1  \\\n",
              "0       5160     0.000013    120.804174       86.853334               957   \n",
              "1      51980     0.000016    115.318238       83.448681              1694   \n",
              "2       2600     0.000010    229.933997      172.761858              2333   \n",
              "3       2130     0.000010    369.403342      183.193104              1756   \n",
              "4       2310     0.000007    257.997131      111.275889               987   \n",
              "\n",
              "   max_y_extension1  mean_acc_in_air1  mean_acc_on_paper1  mean_gmrt1  \\\n",
              "0              6601          0.361800            0.217459  103.828754   \n",
              "1              6998          0.272513            0.144880   99.383459   \n",
              "2              5802          0.387020            0.181342  201.347928   \n",
              "3              8159          0.556879            0.164502  276.298223   \n",
              "4              4732          0.266077            0.145104  184.636510   \n",
              "\n",
              "   mean_jerk_in_air1  ...  mean_jerk_in_air25  mean_jerk_on_paper25  \\\n",
              "0           0.051836  ...            0.141434              0.024471   \n",
              "1           0.039827  ...            0.049663              0.018368   \n",
              "2           0.064220  ...            0.178194              0.017174   \n",
              "3           0.090408  ...            0.113905              0.019860   \n",
              "4           0.037528  ...            0.121782              0.020872   \n",
              "\n",
              "   mean_speed_in_air25  mean_speed_on_paper25  num_of_pendown25  paper_time25  \\\n",
              "0             5.596487               3.184589                71         40120   \n",
              "1             1.665973               0.950249               129        126700   \n",
              "2             4.000781               2.392521                74         45480   \n",
              "3             4.206746               1.613522               123         67945   \n",
              "4             3.319036               1.680629                92         37285   \n",
              "\n",
              "   pressure_mean25  pressure_var25  total_time25  class  \n",
              "0      1749.278166     296102.7676        144605      1  \n",
              "1      1504.768272     278744.2850        298640      1  \n",
              "2      1431.443492     144411.7055         79025      1  \n",
              "3      1465.843329     230184.7154        181220      1  \n",
              "4      1841.702561     158290.0255         72575      1  \n",
              "\n",
              "[5 rows x 451 columns]"
            ],
            "text/html": [
              "\n",
              "  <div id=\"df-45487419-ee78-49d7-9b95-6c950b8dd8cf\" class=\"colab-df-container\">\n",
              "    <div>\n",
              "<style scoped>\n",
              "    .dataframe tbody tr th:only-of-type {\n",
              "        vertical-align: middle;\n",
              "    }\n",
              "\n",
              "    .dataframe tbody tr th {\n",
              "        vertical-align: top;\n",
              "    }\n",
              "\n",
              "    .dataframe thead th {\n",
              "        text-align: right;\n",
              "    }\n",
              "</style>\n",
              "<table border=\"1\" class=\"dataframe\">\n",
              "  <thead>\n",
              "    <tr style=\"text-align: right;\">\n",
              "      <th></th>\n",
              "      <th>air_time1</th>\n",
              "      <th>disp_index1</th>\n",
              "      <th>gmrt_in_air1</th>\n",
              "      <th>gmrt_on_paper1</th>\n",
              "      <th>max_x_extension1</th>\n",
              "      <th>max_y_extension1</th>\n",
              "      <th>mean_acc_in_air1</th>\n",
              "      <th>mean_acc_on_paper1</th>\n",
              "      <th>mean_gmrt1</th>\n",
              "      <th>mean_jerk_in_air1</th>\n",
              "      <th>...</th>\n",
              "      <th>mean_jerk_in_air25</th>\n",
              "      <th>mean_jerk_on_paper25</th>\n",
              "      <th>mean_speed_in_air25</th>\n",
              "      <th>mean_speed_on_paper25</th>\n",
              "      <th>num_of_pendown25</th>\n",
              "      <th>paper_time25</th>\n",
              "      <th>pressure_mean25</th>\n",
              "      <th>pressure_var25</th>\n",
              "      <th>total_time25</th>\n",
              "      <th>class</th>\n",
              "    </tr>\n",
              "  </thead>\n",
              "  <tbody>\n",
              "    <tr>\n",
              "      <th>0</th>\n",
              "      <td>5160</td>\n",
              "      <td>0.000013</td>\n",
              "      <td>120.804174</td>\n",
              "      <td>86.853334</td>\n",
              "      <td>957</td>\n",
              "      <td>6601</td>\n",
              "      <td>0.361800</td>\n",
              "      <td>0.217459</td>\n",
              "      <td>103.828754</td>\n",
              "      <td>0.051836</td>\n",
              "      <td>...</td>\n",
              "      <td>0.141434</td>\n",
              "      <td>0.024471</td>\n",
              "      <td>5.596487</td>\n",
              "      <td>3.184589</td>\n",
              "      <td>71</td>\n",
              "      <td>40120</td>\n",
              "      <td>1749.278166</td>\n",
              "      <td>296102.7676</td>\n",
              "      <td>144605</td>\n",
              "      <td>1</td>\n",
              "    </tr>\n",
              "    <tr>\n",
              "      <th>1</th>\n",
              "      <td>51980</td>\n",
              "      <td>0.000016</td>\n",
              "      <td>115.318238</td>\n",
              "      <td>83.448681</td>\n",
              "      <td>1694</td>\n",
              "      <td>6998</td>\n",
              "      <td>0.272513</td>\n",
              "      <td>0.144880</td>\n",
              "      <td>99.383459</td>\n",
              "      <td>0.039827</td>\n",
              "      <td>...</td>\n",
              "      <td>0.049663</td>\n",
              "      <td>0.018368</td>\n",
              "      <td>1.665973</td>\n",
              "      <td>0.950249</td>\n",
              "      <td>129</td>\n",
              "      <td>126700</td>\n",
              "      <td>1504.768272</td>\n",
              "      <td>278744.2850</td>\n",
              "      <td>298640</td>\n",
              "      <td>1</td>\n",
              "    </tr>\n",
              "    <tr>\n",
              "      <th>2</th>\n",
              "      <td>2600</td>\n",
              "      <td>0.000010</td>\n",
              "      <td>229.933997</td>\n",
              "      <td>172.761858</td>\n",
              "      <td>2333</td>\n",
              "      <td>5802</td>\n",
              "      <td>0.387020</td>\n",
              "      <td>0.181342</td>\n",
              "      <td>201.347928</td>\n",
              "      <td>0.064220</td>\n",
              "      <td>...</td>\n",
              "      <td>0.178194</td>\n",
              "      <td>0.017174</td>\n",
              "      <td>4.000781</td>\n",
              "      <td>2.392521</td>\n",
              "      <td>74</td>\n",
              "      <td>45480</td>\n",
              "      <td>1431.443492</td>\n",
              "      <td>144411.7055</td>\n",
              "      <td>79025</td>\n",
              "      <td>1</td>\n",
              "    </tr>\n",
              "    <tr>\n",
              "      <th>3</th>\n",
              "      <td>2130</td>\n",
              "      <td>0.000010</td>\n",
              "      <td>369.403342</td>\n",
              "      <td>183.193104</td>\n",
              "      <td>1756</td>\n",
              "      <td>8159</td>\n",
              "      <td>0.556879</td>\n",
              "      <td>0.164502</td>\n",
              "      <td>276.298223</td>\n",
              "      <td>0.090408</td>\n",
              "      <td>...</td>\n",
              "      <td>0.113905</td>\n",
              "      <td>0.019860</td>\n",
              "      <td>4.206746</td>\n",
              "      <td>1.613522</td>\n",
              "      <td>123</td>\n",
              "      <td>67945</td>\n",
              "      <td>1465.843329</td>\n",
              "      <td>230184.7154</td>\n",
              "      <td>181220</td>\n",
              "      <td>1</td>\n",
              "    </tr>\n",
              "    <tr>\n",
              "      <th>4</th>\n",
              "      <td>2310</td>\n",
              "      <td>0.000007</td>\n",
              "      <td>257.997131</td>\n",
              "      <td>111.275889</td>\n",
              "      <td>987</td>\n",
              "      <td>4732</td>\n",
              "      <td>0.266077</td>\n",
              "      <td>0.145104</td>\n",
              "      <td>184.636510</td>\n",
              "      <td>0.037528</td>\n",
              "      <td>...</td>\n",
              "      <td>0.121782</td>\n",
              "      <td>0.020872</td>\n",
              "      <td>3.319036</td>\n",
              "      <td>1.680629</td>\n",
              "      <td>92</td>\n",
              "      <td>37285</td>\n",
              "      <td>1841.702561</td>\n",
              "      <td>158290.0255</td>\n",
              "      <td>72575</td>\n",
              "      <td>1</td>\n",
              "    </tr>\n",
              "  </tbody>\n",
              "</table>\n",
              "<p>5 rows × 451 columns</p>\n",
              "</div>\n",
              "    <div class=\"colab-df-buttons\">\n",
              "\n",
              "  <div class=\"colab-df-container\">\n",
              "    <button class=\"colab-df-convert\" onclick=\"convertToInteractive('df-45487419-ee78-49d7-9b95-6c950b8dd8cf')\"\n",
              "            title=\"Convert this dataframe to an interactive table.\"\n",
              "            style=\"display:none;\">\n",
              "\n",
              "  <svg xmlns=\"http://www.w3.org/2000/svg\" height=\"24px\" viewBox=\"0 -960 960 960\">\n",
              "    <path d=\"M120-120v-720h720v720H120Zm60-500h600v-160H180v160Zm220 220h160v-160H400v160Zm0 220h160v-160H400v160ZM180-400h160v-160H180v160Zm440 0h160v-160H620v160ZM180-180h160v-160H180v160Zm440 0h160v-160H620v160Z\"/>\n",
              "  </svg>\n",
              "    </button>\n",
              "\n",
              "  <style>\n",
              "    .colab-df-container {\n",
              "      display:flex;\n",
              "      gap: 12px;\n",
              "    }\n",
              "\n",
              "    .colab-df-convert {\n",
              "      background-color: #E8F0FE;\n",
              "      border: none;\n",
              "      border-radius: 50%;\n",
              "      cursor: pointer;\n",
              "      display: none;\n",
              "      fill: #1967D2;\n",
              "      height: 32px;\n",
              "      padding: 0 0 0 0;\n",
              "      width: 32px;\n",
              "    }\n",
              "\n",
              "    .colab-df-convert:hover {\n",
              "      background-color: #E2EBFA;\n",
              "      box-shadow: 0px 1px 2px rgba(60, 64, 67, 0.3), 0px 1px 3px 1px rgba(60, 64, 67, 0.15);\n",
              "      fill: #174EA6;\n",
              "    }\n",
              "\n",
              "    .colab-df-buttons div {\n",
              "      margin-bottom: 4px;\n",
              "    }\n",
              "\n",
              "    [theme=dark] .colab-df-convert {\n",
              "      background-color: #3B4455;\n",
              "      fill: #D2E3FC;\n",
              "    }\n",
              "\n",
              "    [theme=dark] .colab-df-convert:hover {\n",
              "      background-color: #434B5C;\n",
              "      box-shadow: 0px 1px 3px 1px rgba(0, 0, 0, 0.15);\n",
              "      filter: drop-shadow(0px 1px 2px rgba(0, 0, 0, 0.3));\n",
              "      fill: #FFFFFF;\n",
              "    }\n",
              "  </style>\n",
              "\n",
              "    <script>\n",
              "      const buttonEl =\n",
              "        document.querySelector('#df-45487419-ee78-49d7-9b95-6c950b8dd8cf button.colab-df-convert');\n",
              "      buttonEl.style.display =\n",
              "        google.colab.kernel.accessAllowed ? 'block' : 'none';\n",
              "\n",
              "      async function convertToInteractive(key) {\n",
              "        const element = document.querySelector('#df-45487419-ee78-49d7-9b95-6c950b8dd8cf');\n",
              "        const dataTable =\n",
              "          await google.colab.kernel.invokeFunction('convertToInteractive',\n",
              "                                                    [key], {});\n",
              "        if (!dataTable) return;\n",
              "\n",
              "        const docLinkHtml = 'Like what you see? Visit the ' +\n",
              "          '<a target=\"_blank\" href=https://colab.research.google.com/notebooks/data_table.ipynb>data table notebook</a>'\n",
              "          + ' to learn more about interactive tables.';\n",
              "        element.innerHTML = '';\n",
              "        dataTable['output_type'] = 'display_data';\n",
              "        await google.colab.output.renderOutput(dataTable, element);\n",
              "        const docLink = document.createElement('div');\n",
              "        docLink.innerHTML = docLinkHtml;\n",
              "        element.appendChild(docLink);\n",
              "      }\n",
              "    </script>\n",
              "  </div>\n",
              "\n",
              "\n",
              "<div id=\"df-819fe835-ab5e-4dd8-8d1d-5230090ac091\">\n",
              "  <button class=\"colab-df-quickchart\" onclick=\"quickchart('df-819fe835-ab5e-4dd8-8d1d-5230090ac091')\"\n",
              "            title=\"Suggest charts\"\n",
              "            style=\"display:none;\">\n",
              "\n",
              "<svg xmlns=\"http://www.w3.org/2000/svg\" height=\"24px\"viewBox=\"0 0 24 24\"\n",
              "     width=\"24px\">\n",
              "    <g>\n",
              "        <path d=\"M19 3H5c-1.1 0-2 .9-2 2v14c0 1.1.9 2 2 2h14c1.1 0 2-.9 2-2V5c0-1.1-.9-2-2-2zM9 17H7v-7h2v7zm4 0h-2V7h2v10zm4 0h-2v-4h2v4z\"/>\n",
              "    </g>\n",
              "</svg>\n",
              "  </button>\n",
              "\n",
              "<style>\n",
              "  .colab-df-quickchart {\n",
              "      --bg-color: #E8F0FE;\n",
              "      --fill-color: #1967D2;\n",
              "      --hover-bg-color: #E2EBFA;\n",
              "      --hover-fill-color: #174EA6;\n",
              "      --disabled-fill-color: #AAA;\n",
              "      --disabled-bg-color: #DDD;\n",
              "  }\n",
              "\n",
              "  [theme=dark] .colab-df-quickchart {\n",
              "      --bg-color: #3B4455;\n",
              "      --fill-color: #D2E3FC;\n",
              "      --hover-bg-color: #434B5C;\n",
              "      --hover-fill-color: #FFFFFF;\n",
              "      --disabled-bg-color: #3B4455;\n",
              "      --disabled-fill-color: #666;\n",
              "  }\n",
              "\n",
              "  .colab-df-quickchart {\n",
              "    background-color: var(--bg-color);\n",
              "    border: none;\n",
              "    border-radius: 50%;\n",
              "    cursor: pointer;\n",
              "    display: none;\n",
              "    fill: var(--fill-color);\n",
              "    height: 32px;\n",
              "    padding: 0;\n",
              "    width: 32px;\n",
              "  }\n",
              "\n",
              "  .colab-df-quickchart:hover {\n",
              "    background-color: var(--hover-bg-color);\n",
              "    box-shadow: 0 1px 2px rgba(60, 64, 67, 0.3), 0 1px 3px 1px rgba(60, 64, 67, 0.15);\n",
              "    fill: var(--button-hover-fill-color);\n",
              "  }\n",
              "\n",
              "  .colab-df-quickchart-complete:disabled,\n",
              "  .colab-df-quickchart-complete:disabled:hover {\n",
              "    background-color: var(--disabled-bg-color);\n",
              "    fill: var(--disabled-fill-color);\n",
              "    box-shadow: none;\n",
              "  }\n",
              "\n",
              "  .colab-df-spinner {\n",
              "    border: 2px solid var(--fill-color);\n",
              "    border-color: transparent;\n",
              "    border-bottom-color: var(--fill-color);\n",
              "    animation:\n",
              "      spin 1s steps(1) infinite;\n",
              "  }\n",
              "\n",
              "  @keyframes spin {\n",
              "    0% {\n",
              "      border-color: transparent;\n",
              "      border-bottom-color: var(--fill-color);\n",
              "      border-left-color: var(--fill-color);\n",
              "    }\n",
              "    20% {\n",
              "      border-color: transparent;\n",
              "      border-left-color: var(--fill-color);\n",
              "      border-top-color: var(--fill-color);\n",
              "    }\n",
              "    30% {\n",
              "      border-color: transparent;\n",
              "      border-left-color: var(--fill-color);\n",
              "      border-top-color: var(--fill-color);\n",
              "      border-right-color: var(--fill-color);\n",
              "    }\n",
              "    40% {\n",
              "      border-color: transparent;\n",
              "      border-right-color: var(--fill-color);\n",
              "      border-top-color: var(--fill-color);\n",
              "    }\n",
              "    60% {\n",
              "      border-color: transparent;\n",
              "      border-right-color: var(--fill-color);\n",
              "    }\n",
              "    80% {\n",
              "      border-color: transparent;\n",
              "      border-right-color: var(--fill-color);\n",
              "      border-bottom-color: var(--fill-color);\n",
              "    }\n",
              "    90% {\n",
              "      border-color: transparent;\n",
              "      border-bottom-color: var(--fill-color);\n",
              "    }\n",
              "  }\n",
              "</style>\n",
              "\n",
              "  <script>\n",
              "    async function quickchart(key) {\n",
              "      const quickchartButtonEl =\n",
              "        document.querySelector('#' + key + ' button');\n",
              "      quickchartButtonEl.disabled = true;  // To prevent multiple clicks.\n",
              "      quickchartButtonEl.classList.add('colab-df-spinner');\n",
              "      try {\n",
              "        const charts = await google.colab.kernel.invokeFunction(\n",
              "            'suggestCharts', [key], {});\n",
              "      } catch (error) {\n",
              "        console.error('Error during call to suggestCharts:', error);\n",
              "      }\n",
              "      quickchartButtonEl.classList.remove('colab-df-spinner');\n",
              "      quickchartButtonEl.classList.add('colab-df-quickchart-complete');\n",
              "    }\n",
              "    (() => {\n",
              "      let quickchartButtonEl =\n",
              "        document.querySelector('#df-819fe835-ab5e-4dd8-8d1d-5230090ac091 button');\n",
              "      quickchartButtonEl.style.display =\n",
              "        google.colab.kernel.accessAllowed ? 'block' : 'none';\n",
              "    })();\n",
              "  </script>\n",
              "</div>\n",
              "    </div>\n",
              "  </div>\n"
            ],
            "application/vnd.google.colaboratory.intrinsic+json": {
              "type": "dataframe",
              "variable_name": "df"
            }
          },
          "metadata": {},
          "execution_count": 61
        }
      ]
    },
    {
      "cell_type": "code",
      "source": [
        "variances = df.var()"
      ],
      "metadata": {
        "id": "3jQGh4bk-SOX"
      },
      "execution_count": null,
      "outputs": []
    },
    {
      "cell_type": "code",
      "source": [
        "# Calculate variance for each feature\n",
        "variances = df.var()\n",
        "\n",
        "# Set a threshold (experiment with different values)\n",
        "threshold = 0.15\n",
        "\n",
        "# Filter features with variance below the threshold\n",
        "low_variance_features = variances[variances <= threshold].index\n",
        "\n",
        "# Create a new DataFrame without low variance features\n",
        "df_filtered = df.drop(columns=low_variance_features)\n",
        "\n",
        "print(\"Original DataFrame:\")\n",
        "print(len(df.columns))\n",
        "print(\"\\nDataFrame after low variance filter:\")\n",
        "print(len(df_filtered.columns))\n"
      ],
      "metadata": {
        "colab": {
          "base_uri": "https://localhost:8080/"
        },
        "id": "gKg6IrPB-XuE",
        "outputId": "200a289f-76ae-4b91-80ee-af6f449b3819"
      },
      "execution_count": null,
      "outputs": [
        {
          "output_type": "stream",
          "name": "stdout",
          "text": [
            "Original DataFrame:\n",
            "451\n",
            "\n",
            "DataFrame after low variance filter:\n",
            "336\n"
          ]
        }
      ]
    },
    {
      "cell_type": "code",
      "source": [
        "print(df.var())"
      ],
      "metadata": {
        "colab": {
          "base_uri": "https://localhost:8080/"
        },
        "id": "S62a4Z-DTJXN",
        "outputId": "b058e639-aa42-4fc3-f794-6d01099f3fde"
      },
      "execution_count": null,
      "outputs": [
        {
          "output_type": "stream",
          "name": "stdout",
          "text": [
            "air_time1           1.601180e+08\n",
            "disp_index1         1.130429e-11\n",
            "gmrt_in_air1        3.383509e+04\n",
            "gmrt_on_paper1      1.246116e+04\n",
            "max_x_extension1    2.716914e+06\n",
            "                        ...     \n",
            "paper_time25        3.645054e+08\n",
            "pressure_mean25     1.050682e+05\n",
            "pressure_var25      3.231423e+09\n",
            "total_time25        2.469491e+11\n",
            "class               2.513122e-01\n",
            "Length: 451, dtype: float64\n"
          ]
        }
      ]
    },
    {
      "cell_type": "code",
      "source": [
        "# Calculate correlation matrix\n",
        "correlation_matrix = df.corr()\n",
        "\n",
        "#Set a correlation threshold (experiment with different values)\n",
        "correlation_threshold = 0.80\n",
        "\n",
        "# Identify highly correlated pairs\n",
        "highly_correlated_pairs = np.where(np.abs(correlation_matrix) > correlation_threshold)\n",
        "\n",
        "# Create a set to keep track of features to remove\n",
        "features_to_remove = set()\n",
        "\n",
        "# Loop through the pairs and decide which features to remove\n",
        "for feature1, feature2 in zip(*highly_correlated_pairs):\n",
        "    if feature1 != feature2 and feature1 not in features_to_remove:\n",
        "        features_to_remove.add(feature2)\n",
        "\n",
        "# Convert indices to column labels\n",
        "columns_to_remove = [df.columns[idx] for idx in features_to_remove]\n",
        "\n",
        "# Create a new DataFrame without highly correlated features\n",
        "df_filtered = df.drop(columns=columns_to_remove)\n",
        "\n",
        "print(\"Original DataFrame:\")\n",
        "print(len(df.columns))\n",
        "print(\"\\nDataFrame after low variance filter:\")\n",
        "print(len(df_filtered.columns))"
      ],
      "metadata": {
        "colab": {
          "base_uri": "https://localhost:8080/"
        },
        "id": "j9SfVuLl-bql",
        "outputId": "9f8ac420-20c3-40ac-cd34-3f0b9d97902d"
      },
      "execution_count": null,
      "outputs": [
        {
          "output_type": "stream",
          "name": "stdout",
          "text": [
            "Original DataFrame:\n",
            "451\n",
            "\n",
            "DataFrame after low variance filter:\n",
            "286\n"
          ]
        }
      ]
    },
    {
      "cell_type": "code",
      "source": [
        "# Separate features and target (if applicable)\n",
        "X = df_filtered.drop(['class'], axis=1)  # Replace 'target_column' with your target column name\n",
        "\n",
        "# Save original column names\n",
        "original_columns = X.columns\n",
        "\n",
        "# Standardize the data\n",
        "scaler = StandardScaler()\n",
        "X_scaled = scaler.fit_transform(X)"
      ],
      "metadata": {
        "id": "IC-BvFYQ-kWo"
      },
      "execution_count": null,
      "outputs": []
    },
    {
      "cell_type": "code",
      "source": [
        "# Perform PCA\n",
        "num_components = 0.80  # Retain 80% of explained variance\n",
        "pca = PCA(n_components=num_components)\n",
        "principal_components = pca.fit_transform(X_scaled)\n",
        "# Create a new DataFrame with the principal components\n",
        "pc_df = pd.DataFrame(data=principal_components, columns=[f'PC{i+1}' for i in range(pca.n_components_)])\n"
      ],
      "metadata": {
        "id": "hqKGz1QEBBPh"
      },
      "execution_count": null,
      "outputs": []
    },
    {
      "cell_type": "code",
      "source": [
        "# Map original column names to PC column names\n",
        "pc_df.columns = [original_columns[i] for i in range(pca.n_components_)]"
      ],
      "metadata": {
        "id": "aF3F1sgXBFDn"
      },
      "execution_count": null,
      "outputs": []
    },
    {
      "cell_type": "code",
      "source": [
        "# Replace values in the 'column1' with 0 and 1\n",
        "df_filtered['class'] = df_filtered['class'].replace({'H': 0, 'P': 1})"
      ],
      "metadata": {
        "id": "zUUSLw0qBJaQ"
      },
      "execution_count": null,
      "outputs": []
    },
    {
      "cell_type": "code",
      "source": [
        "# Attach the target column back\n",
        "pc_df['class'] = df_filtered['class']"
      ],
      "metadata": {
        "id": "QIM68Ni7BOJA"
      },
      "execution_count": null,
      "outputs": []
    },
    {
      "cell_type": "code",
      "source": [
        "# Display the principal components DataFrame\n",
        "print(pc_df)"
      ],
      "metadata": {
        "colab": {
          "base_uri": "https://localhost:8080/"
        },
        "id": "MqZp9mP-BYUA",
        "outputId": "34e63a91-d984-4317-96b5-7189d4d6f1b7"
      },
      "execution_count": null,
      "outputs": [
        {
          "output_type": "stream",
          "name": "stdout",
          "text": [
            "     air_time1  disp_index1  gmrt_in_air1  gmrt_on_paper1  max_x_extension1  \\\n",
            "0     1.715570    -1.301320     -5.938597        1.033366          1.207270   \n",
            "1    14.703325     0.112557     -1.196792        1.106569         12.377557   \n",
            "2     0.186585    -2.804868     -2.035382       -2.690699         -2.539228   \n",
            "3     6.469885    -3.739193     -2.548877        1.512914          3.170509   \n",
            "4     1.188169    -6.258030     -3.310160       -0.609532          1.189627   \n",
            "..         ...          ...           ...             ...               ...   \n",
            "169  -3.002230     2.392749     -2.134874        1.009428          2.340286   \n",
            "170  -0.224531     1.240848      3.749584       -0.610894          2.147075   \n",
            "171   0.981469    -2.485509      4.392067        1.136281          3.260752   \n",
            "172   0.594233    -2.637245      4.487296        0.309312          3.199602   \n",
            "173   0.736959    -2.601019      4.280021        0.692521          3.031173   \n",
            "\n",
            "     max_y_extension1  mean_acc_in_air1  mean_jerk_on_paper1  num_of_pendown1  \\\n",
            "0           -1.593172         -8.379035             4.081353        -6.937215   \n",
            "1           -4.950682          3.585487            10.168553         3.778629   \n",
            "2           -2.001339          2.085201            -3.259792         0.970322   \n",
            "3           -0.936854          0.696930             3.329119        -1.879406   \n",
            "4           -1.675405         -0.714970            -0.257864        -2.863960   \n",
            "..                ...               ...                  ...              ...   \n",
            "169         -0.971791          0.845719             2.141409        -1.222688   \n",
            "170         -0.325078          0.564681            -0.052833         0.549114   \n",
            "171         -4.540354         -0.366142             0.631622         1.574821   \n",
            "172         -4.641745         -0.043682             0.489343         1.674818   \n",
            "173         -4.567113         -0.206064             0.589186         1.580576   \n",
            "\n",
            "     pressure_mean1  ...  pressure_var4  air_time5  disp_index5  gmrt_in_air5  \\\n",
            "0          3.647718  ...      -0.714874  -1.299660    -0.816542     -1.764236   \n",
            "1          6.316355  ...      -0.382423  -1.284486     1.542892     -1.202138   \n",
            "2         -0.972728  ...      -2.220041  -2.934396    -0.826930      0.178455   \n",
            "3         -1.603380  ...       0.337684   1.356791     1.410038     -1.010763   \n",
            "4         -1.077953  ...      -1.108230  -1.005699     0.216215      0.043537   \n",
            "..              ...  ...            ...        ...          ...           ...   \n",
            "169       -4.043384  ...       0.116645  -0.570925    -1.263033      0.631577   \n",
            "170       -3.801918  ...       0.129377   0.051424     0.271366     -0.754841   \n",
            "171       -3.882161  ...      -1.061903   0.106252    -0.493069      0.624931   \n",
            "172       -4.006862  ...      -0.900342   0.178263    -0.450624      0.921959   \n",
            "173       -3.864875  ...      -0.995792  -0.230039    -0.064182      0.700405   \n",
            "\n",
            "     gmrt_on_paper5  max_x_extension5  mean_acc_in_air5  mean_acc_on_paper5  \\\n",
            "0          1.411674          1.998231          1.996010           -0.842820   \n",
            "1          0.839879          0.579607          0.032102           -1.962140   \n",
            "2          0.181739          1.391277          1.035020           -0.919988   \n",
            "3         -0.052833          0.519443         -0.709596            0.584558   \n",
            "4          0.484501          0.081663         -0.535513           -0.118881   \n",
            "..              ...               ...               ...                 ...   \n",
            "169        0.098689         -0.561246          1.371556           -0.954594   \n",
            "170       -1.114176         -1.696738         -0.251096           -0.026738   \n",
            "171       -0.527339         -0.126250         -0.031463            2.600485   \n",
            "172       -0.388183          0.025341         -0.042875            2.526213   \n",
            "173       -0.215129          0.209276         -0.176388            2.845201   \n",
            "\n",
            "     mean_speed_in_air5  class  \n",
            "0              0.763183      1  \n",
            "1              0.122699      1  \n",
            "2             -0.958967      1  \n",
            "3             -1.949008      1  \n",
            "4             -0.321574      1  \n",
            "..                  ...    ...  \n",
            "169            0.531126      0  \n",
            "170            0.030421      0  \n",
            "171            1.110466      0  \n",
            "172            1.177120      0  \n",
            "173            1.324045      0  \n",
            "\n",
            "[174 rows x 57 columns]\n"
          ]
        }
      ]
    },
    {
      "cell_type": "code",
      "source": [
        "# Separate features and target\n",
        "X = pc_df.drop('class', axis=1)  # Features\n",
        "y = pc_df['class']  # Target variable\n",
        "\n",
        "# Split the data into train and test sets\n",
        "  # Proportion of data to allocate to the test set\n",
        "  # Seed for reproducibility\n",
        "\n",
        "X_train, X_test, y_train, y_test = train_test_split(X, y, test_size = 0.2, random_state= 42)\n",
        "\n",
        "# Print the shapes of the resulting sets\n",
        "print(\"X_train shape:\", X_train.shape)\n",
        "print(\"X_test shape:\", X_test.shape)\n",
        "print(\"y_train shape:\", y_train.shape)\n",
        "print(\"y_test shape:\", y_test.shape)"
      ],
      "metadata": {
        "colab": {
          "base_uri": "https://localhost:8080/"
        },
        "id": "_f2gv4L4-shm",
        "outputId": "1bb23445-3e2a-45cb-fe96-267aca8eee14"
      },
      "execution_count": null,
      "outputs": [
        {
          "output_type": "stream",
          "name": "stdout",
          "text": [
            "X_train shape: (139, 56)\n",
            "X_test shape: (35, 56)\n",
            "y_train shape: (139,)\n",
            "y_test shape: (35,)\n"
          ]
        }
      ]
    },
    {
      "cell_type": "code",
      "source": [
        "from sklearn.model_selection import train_test_split\n",
        "from sklearn.linear_model import LogisticRegression\n",
        "from sklearn.metrics import accuracy_score\n",
        "\n",
        "# Assuming X represents your features and y represents your labels\n",
        "# Replace X and y with your actual feature and label data\n",
        "\n",
        "# Split the data into training and testing sets\n",
        "X_train, X_test, y_train, y_test = train_test_split(X, y, test_size=0.2, random_state=42)\n",
        "\n",
        "# Initialize the Logistic Regression model\n",
        "logistic_regression_model = LogisticRegression()\n",
        "\n",
        "# Train the model on the training data\n",
        "logistic_regression_model.fit(X_train, y_train)\n",
        "\n",
        "# Make predictions on the test data\n",
        "predictions_lr = logistic_regression_model.predict(X_test)\n",
        "\n",
        "# Evaluate the model's performance\n",
        "accuracy = accuracy_score(y_test, predictions_lr)"
      ],
      "metadata": {
        "id": "4LNB7GAkADd9"
      },
      "execution_count": null,
      "outputs": []
    },
    {
      "cell_type": "code",
      "source": [
        "from sklearn.model_selection import train_test_split\n",
        "from sklearn.tree import DecisionTreeClassifier\n",
        "from sklearn.metrics import accuracy_score\n",
        "\n",
        "# Assuming X represents your features and y represents your labels\n",
        "# Replace X and y with your actual feature and label data\n",
        "\n",
        "# Split the data into training and testing sets\n",
        "X_train, X_test, y_train, y_test = train_test_split(X, y, test_size=0.2, random_state=42)\n",
        "\n",
        "# Initialize the Decision Tree Classifier model\n",
        "dt_model = DecisionTreeClassifier(random_state=42)\n",
        "\n",
        "# Train the model on the training data\n",
        "dt_model.fit(X_train, y_train)\n",
        "\n",
        "# Make predictions on the test data\n",
        "predictions_dc = dt_model.predict(X_test)"
      ],
      "metadata": {
        "id": "U9Mq49pfFePs"
      },
      "execution_count": null,
      "outputs": []
    },
    {
      "cell_type": "code",
      "source": [
        "from sklearn.ensemble import RandomForestClassifier\n",
        "from sklearn.metrics import accuracy_score\n",
        "\n",
        "# Assuming 'X_train', 'X_test', 'y_train', 'y_test' are your training and testing sets\n",
        "\n",
        "# Initialize Random Forest classifier\n",
        "rf_classifier = RandomForestClassifier(n_estimators=100, random_state=42)\n",
        "\n",
        "# Train the classifier on the training data\n",
        "rf_classifier.fit(X_train, y_train)\n",
        "\n",
        "# Predict the target variable on the testing data\n",
        "y_pred = rf_classifier.predict(X_test)\n",
        "\n"
      ],
      "metadata": {
        "id": "Fd0ph_Yi-3KQ"
      },
      "execution_count": null,
      "outputs": []
    },
    {
      "cell_type": "code",
      "source": [
        "from sklearn.model_selection import train_test_split\n",
        "from sklearn.ensemble import AdaBoostClassifier\n",
        "from sklearn.metrics import accuracy_score\n",
        "\n",
        "# Assuming X represents your features and y represents your labels\n",
        "# Replace X and y with your actual feature and label data\n",
        "\n",
        "# Split the data into training and testing sets\n",
        "X_train, X_test, y_train, y_test = train_test_split(X, y, test_size=0.2, random_state=42)\n",
        "\n",
        "# Initialize the AdaBoost Classifier model with a base estimator (e.g., Decision Tree)\n",
        "base_estimator = DecisionTreeClassifier(max_depth=1, random_state=42)\n",
        "adaboost_model = AdaBoostClassifier(base_estimator=base_estimator, n_estimators=50, random_state=42)\n",
        "\n",
        "# Train the model on the training data\n",
        "adaboost_model.fit(X_train, y_train)\n",
        "\n",
        "# Make predictions on the test data\n",
        "predictions_ab = adaboost_model.predict(X_test)"
      ],
      "metadata": {
        "colab": {
          "base_uri": "https://localhost:8080/"
        },
        "id": "YjWtQy8yFoWx",
        "outputId": "c8e92d8c-6be2-4671-dcdd-c6bb94cbb2e1"
      },
      "execution_count": null,
      "outputs": [
        {
          "output_type": "stream",
          "name": "stderr",
          "text": [
            "/usr/local/lib/python3.10/dist-packages/sklearn/ensemble/_base.py:166: FutureWarning: `base_estimator` was renamed to `estimator` in version 1.2 and will be removed in 1.4.\n",
            "  warnings.warn(\n"
          ]
        }
      ]
    },
    {
      "cell_type": "code",
      "source": [
        "from sklearn.metrics import accuracy_score, precision_score, recall_score, f1_score, confusion_matrix\n",
        "#Evaluation metric for Logistic Regression\n",
        "accuracy = accuracy_score(y_test, predictions_lr)\n",
        "precision = precision_score(y_test, predictions_lr)\n",
        "recall = recall_score(y_test, predictions_lr)\n",
        "f1 = f1_score(y_test, predictions_lr)\n",
        "\n",
        "print(\"Logistic Regression\")\n",
        "print(\"Accuracy:\", accuracy)\n",
        "print(\"Precision:\", precision)\n",
        "print(\"Recall:\", recall)\n",
        "print(\"F1 Score:\", f1)"
      ],
      "metadata": {
        "colab": {
          "base_uri": "https://localhost:8080/"
        },
        "id": "XVQEnNAnGWbl",
        "outputId": "02eb8251-5711-43e0-e040-bc680cbd56a3"
      },
      "execution_count": null,
      "outputs": [
        {
          "output_type": "stream",
          "name": "stdout",
          "text": [
            "Logistic Regression\n",
            "Accuracy: 0.8285714285714286\n",
            "Precision: 0.9375\n",
            "Recall: 0.75\n",
            "F1 Score: 0.8333333333333334\n"
          ]
        }
      ]
    },
    {
      "cell_type": "code",
      "source": [
        "from sklearn.metrics import accuracy_score, precision_score, recall_score, f1_score, confusion_matrix\n",
        "#Evaluation metric for Decision Tree Classifier\n",
        "accuracy = accuracy_score(y_test, predictions_dc)\n",
        "precision = precision_score(y_test, predictions_dc)\n",
        "recall = recall_score(y_test, predictions_dc)\n",
        "f1 = f1_score(y_test, predictions_dc)\n",
        "\n",
        "print(\"Decision Tree Classifier\")\n",
        "print(\"Accuracy:\", accuracy)\n",
        "print(\"Precision:\", precision)\n",
        "print(\"Recall:\", recall)\n",
        "print(\"F1 Score:\", f1)"
      ],
      "metadata": {
        "colab": {
          "base_uri": "https://localhost:8080/"
        },
        "id": "cMi1tgXcGxRH",
        "outputId": "e9a79c6f-f714-4ed4-fd52-f1b1a16cfd75"
      },
      "execution_count": null,
      "outputs": [
        {
          "output_type": "stream",
          "name": "stdout",
          "text": [
            "Decision Tree Classifier\n",
            "Accuracy: 0.8285714285714286\n",
            "Precision: 0.85\n",
            "Recall: 0.85\n",
            "F1 Score: 0.85\n"
          ]
        }
      ]
    },
    {
      "cell_type": "code",
      "source": [
        "from sklearn.metrics import accuracy_score, precision_score, recall_score, f1_score, confusion_matrix\n",
        "\n",
        "#Evaluation metric for Random Forest\n",
        "accuracy = accuracy_score(y_test, y_pred)\n",
        "precision = precision_score(y_test, y_pred)\n",
        "recall = recall_score(y_test, y_pred)\n",
        "f1 = f1_score(y_test, y_pred)\n",
        "\n",
        "print(\"Random Forest\")\n",
        "print(\"Accuracy:\", accuracy)\n",
        "print(\"Precision:\", precision)\n",
        "print(\"Recall:\", recall)\n",
        "print(\"F1 Score:\", f1)"
      ],
      "metadata": {
        "colab": {
          "base_uri": "https://localhost:8080/"
        },
        "id": "Xqj_0lJxG1l0",
        "outputId": "bd2b97e9-8305-469c-b344-f0423853eb91"
      },
      "execution_count": null,
      "outputs": [
        {
          "output_type": "stream",
          "name": "stdout",
          "text": [
            "Random Forest\n",
            "Accuracy: 0.8857142857142857\n",
            "Precision: 0.8636363636363636\n",
            "Recall: 0.95\n",
            "F1 Score: 0.9047619047619048\n"
          ]
        }
      ]
    },
    {
      "cell_type": "code",
      "source": [
        "from sklearn.metrics import accuracy_score, precision_score, recall_score, f1_score, confusion_matrix\n",
        "\n",
        "#Evaluation metric for AdaBoost Classifier\n",
        "accuracy = accuracy_score(y_test, predictions_ab)\n",
        "precision = precision_score(y_test, predictions_ab)\n",
        "recall = recall_score(y_test, predictions_ab)\n",
        "f1 = f1_score(y_test, predictions_ab)\n",
        "\n",
        "print(\"AdaBoost Classifierr\")\n",
        "print(\"Accuracy:\", accuracy)\n",
        "print(\"Precision:\", precision)\n",
        "print(\"Recall:\", recall)\n",
        "print(\"F1 Score:\", f1)"
      ],
      "metadata": {
        "colab": {
          "base_uri": "https://localhost:8080/"
        },
        "id": "b6m52sZqG5FM",
        "outputId": "3711fb25-e4c5-41d8-ba41-eb8f81ed6f6d"
      },
      "execution_count": null,
      "outputs": [
        {
          "output_type": "stream",
          "name": "stdout",
          "text": [
            "AdaBoost Classifierr\n",
            "Accuracy: 0.8\n",
            "Precision: 0.8421052631578947\n",
            "Recall: 0.8\n",
            "F1 Score: 0.8205128205128205\n"
          ]
        }
      ]
    },
    {
      "cell_type": "code",
      "source": [
        "from sklearn.model_selection import KFold\n",
        "from sklearn.model_selection import cross_val_score\n",
        "\n",
        "\n",
        "features = pc_df\n",
        "labels = pc_df['class']\n",
        "\n",
        "# Define the number of folds for cross-validation\n",
        "num_folds = 5\n",
        "kf = KFold(n_splits=num_folds, shuffle=True, random_state=42)\n",
        "\n",
        "# Initialize a logistic regression model\n",
        "model = LogisticRegression()\n",
        "\n",
        "# Perform k-fold cross-validation and print the mean accuracy\n",
        "accuracy_scores = cross_val_score(model, features, labels, cv=kf, scoring='accuracy')\n",
        "print(f\"Logistic Regression Mean Accuracy: {accuracy_scores.mean():.2f}\")"
      ],
      "metadata": {
        "colab": {
          "base_uri": "https://localhost:8080/"
        },
        "id": "xjlfibPJHeRy",
        "outputId": "3a621a93-f33f-4f41-c439-89abcf26ecef"
      },
      "execution_count": null,
      "outputs": [
        {
          "output_type": "stream",
          "name": "stdout",
          "text": [
            "Logistic Regression Mean Accuracy: 0.84\n"
          ]
        }
      ]
    },
    {
      "cell_type": "code",
      "source": [
        "from sklearn.model_selection import KFold\n",
        "from sklearn.model_selection import cross_val_score\n",
        "\n",
        "features = pc_df\n",
        "labels = pc_df['class']\n",
        "\n",
        "# Define the number of folds for cross-validation\n",
        "num_folds = 5\n",
        "kf = KFold(n_splits=num_folds, shuffle=True, random_state=42)\n",
        "\n",
        "# Initialize a logistic regression model\n",
        "model = DecisionTreeClassifier()\n",
        "\n",
        "# Perform k-fold cross-validation and print the mean accuracy\n",
        "accuracy_scores = cross_val_score(model, features, labels, cv=kf, scoring='accuracy')\n",
        "print(f\"Decision Tree Mean Accuracy: {accuracy_scores.mean():.2f}\")"
      ],
      "metadata": {
        "colab": {
          "base_uri": "https://localhost:8080/"
        },
        "id": "j4tbwUhaHqA0",
        "outputId": "081f501d-8a3e-41fb-f305-76bd98287024"
      },
      "execution_count": null,
      "outputs": [
        {
          "output_type": "stream",
          "name": "stdout",
          "text": [
            "Decision Tree Mean Accuracy: 1.00\n"
          ]
        }
      ]
    },
    {
      "cell_type": "code",
      "source": [
        "from sklearn.model_selection import KFold\n",
        "from sklearn.model_selection import cross_val_score\n",
        "\n",
        "features = pc_df\n",
        "labels = pc_df['class']\n",
        "\n",
        "# Define the number of folds for cross-validation\n",
        "num_folds = 5\n",
        "kf = KFold(n_splits=num_folds, shuffle=True, random_state=42)\n",
        "\n",
        "# Initialize a logistic regression model\n",
        "model = RandomForestClassifier()\n",
        "\n",
        "# Perform k-fold cross-validation and print the mean accuracy\n",
        "accuracy_scores = cross_val_score(model, features, labels, cv=kf, scoring='accuracy')\n",
        "print(f\"Random Forest Mean Accuracy: {accuracy_scores.mean():.2f}\")\n"
      ],
      "metadata": {
        "colab": {
          "base_uri": "https://localhost:8080/"
        },
        "id": "iqo3ZpHHImZR",
        "outputId": "acd4c1d2-9872-4377-a387-53c252d260d0"
      },
      "execution_count": null,
      "outputs": [
        {
          "output_type": "stream",
          "name": "stdout",
          "text": [
            "Random Forest Mean Accuracy: 1.00\n"
          ]
        }
      ]
    },
    {
      "cell_type": "code",
      "source": [
        "from sklearn.model_selection import KFold\n",
        "from sklearn.model_selection import cross_val_score\n",
        "from sklearn.linear_model import LogisticRegression\n",
        "\n",
        "features = pc_df\n",
        "labels = pc_df['class']\n",
        "\n",
        "# Define the number of folds for cross-validation\n",
        "num_folds = 5\n",
        "kf = KFold(n_splits=num_folds, shuffle=True, random_state=42)\n",
        "\n",
        "# Initialize a logistic regression model\n",
        "model = AdaBoostClassifier()\n",
        "\n",
        "# Perform k-fold cross-validation and print the mean accuracy\n",
        "accuracy_scores = cross_val_score(model, features, labels, cv=kf, scoring='accuracy')\n",
        "print(f\"AdaBoost Mean Accuracy: {accuracy_scores.mean():.2f}\")"
      ],
      "metadata": {
        "colab": {
          "base_uri": "https://localhost:8080/"
        },
        "id": "G4EypRmdIy0e",
        "outputId": "c0cbda31-3e66-4134-85b3-a1250050a378"
      },
      "execution_count": null,
      "outputs": [
        {
          "output_type": "stream",
          "name": "stdout",
          "text": [
            "AdaBoost Mean Accuracy: 1.00\n"
          ]
        }
      ]
    },
    {
      "cell_type": "code",
      "source": [],
      "metadata": {
        "id": "VM7pogohI5B-"
      },
      "execution_count": null,
      "outputs": []
    }
  ]
}